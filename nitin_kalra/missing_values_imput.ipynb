{
  "nbformat": 4,
  "nbformat_minor": 0,
  "metadata": {
    "colab": {
      "provenance": []
    },
    "kernelspec": {
      "name": "python3",
      "display_name": "Python 3"
    },
    "language_info": {
      "name": "python"
    },
    "accelerator": "GPU",
    "gpuClass": "standard"
  },
  "cells": [
    {
      "cell_type": "code",
      "execution_count": 2,
      "metadata": {
        "id": "yxbJRIE-HubZ"
      },
      "outputs": [],
      "source": [
        "import pandas as pd \n",
        "import numpy as np\n",
        "import matplotlib.pyplot as plt\n",
        "import seaborn as sns\n",
        "import missingno as msno"
      ]
    },
    {
      "cell_type": "code",
      "source": [
        "from google.colab import drive\n",
        "drive.mount('/content/drive')\n",
        "path = \"/content/drive/My Drive/Retail_data(1).csv\""
      ],
      "metadata": {
        "colab": {
          "base_uri": "https://localhost:8080/"
        },
        "id": "PIFqegV9H4JR",
        "outputId": "50ffddd1-7e6b-4beb-a653-07afff9d151f"
      },
      "execution_count": 3,
      "outputs": [
        {
          "output_type": "stream",
          "name": "stdout",
          "text": [
            "Drive already mounted at /content/drive; to attempt to forcibly remount, call drive.mount(\"/content/drive\", force_remount=True).\n"
          ]
        }
      ]
    },
    {
      "cell_type": "code",
      "source": [
        "df =pd.read_csv(path)"
      ],
      "metadata": {
        "id": "nRe20gvpH9vS"
      },
      "execution_count": 4,
      "outputs": []
    },
    {
      "cell_type": "code",
      "source": [
        "df.shape"
      ],
      "metadata": {
        "colab": {
          "base_uri": "https://localhost:8080/"
        },
        "id": "mpxi4Nuq-lfH",
        "outputId": "d22b2833-6176-470e-faa0-c6ef424aca30"
      },
      "execution_count": 5,
      "outputs": [
        {
          "output_type": "execute_result",
          "data": {
            "text/plain": [
              "(101929, 23)"
            ]
          },
          "metadata": {},
          "execution_count": 5
        }
      ]
    },
    {
      "cell_type": "code",
      "source": [
        "df.isnull().sum()"
      ],
      "metadata": {
        "colab": {
          "base_uri": "https://localhost:8080/"
        },
        "id": "7iYjDBNMICoT",
        "outputId": "520e672a-e46f-4e94-b029-36612e4efa84"
      },
      "execution_count": 6,
      "outputs": [
        {
          "output_type": "execute_result",
          "data": {
            "text/plain": [
              "hour                          0\n",
              "order_id                      0\n",
              "customer_id                   0\n",
              "product_id                    0\n",
              "product_price                 0\n",
              "variant_id                    0\n",
              "orders                        0\n",
              "gross_sales                   0\n",
              "discounts                     0\n",
              "returns                       0\n",
              "net_sales                     0\n",
              "shipping                      0\n",
              "taxes                         0\n",
              "total_sales                   0\n",
              "ordered_item_quantity         0\n",
              "net_quantity                  0\n",
              "returned_item_quantity        0\n",
              "order_name                 5961\n",
              "product_type              22861\n",
              "product_title              6483\n",
              "product_vendor            22366\n",
              "variant_title             31316\n",
              "api_client_title           5961\n",
              "dtype: int64"
            ]
          },
          "metadata": {},
          "execution_count": 6
        }
      ]
    },
    {
      "cell_type": "code",
      "source": [
        "df.isnull().mean()*100"
      ],
      "metadata": {
        "colab": {
          "base_uri": "https://localhost:8080/"
        },
        "id": "ku05QFEXINMH",
        "outputId": "e4fd6912-2cd0-45b3-c829-d649e6d53de1"
      },
      "execution_count": null,
      "outputs": [
        {
          "output_type": "execute_result",
          "data": {
            "text/plain": [
              "hour                       0.000000\n",
              "order_id                   0.000000\n",
              "customer_id                0.000000\n",
              "product_id                 0.000000\n",
              "product_price              0.000000\n",
              "variant_id                 0.000000\n",
              "orders                     0.000000\n",
              "gross_sales                0.000000\n",
              "discounts                  0.000000\n",
              "returns                    0.000000\n",
              "net_sales                  0.000000\n",
              "shipping                   0.000000\n",
              "taxes                      0.000000\n",
              "total_sales                0.000000\n",
              "ordered_item_quantity      0.000000\n",
              "net_quantity               0.000000\n",
              "returned_item_quantity     0.000000\n",
              "order_name                 5.848188\n",
              "product_type              22.428357\n",
              "product_title              6.360310\n",
              "product_vendor            21.942725\n",
              "variant_title             30.723347\n",
              "api_client_title           5.848188\n",
              "dtype: float64"
            ]
          },
          "metadata": {},
          "execution_count": 6
        }
      ]
    },
    {
      "cell_type": "code",
      "source": [
        "from sklearn.impute import SimpleImputer\n",
        "import time\n",
        "from datetime import datetime"
      ],
      "metadata": {
        "id": "AnRFLOfDLqCh"
      },
      "execution_count": 15,
      "outputs": []
    },
    {
      "cell_type": "code",
      "source": [
        "# Mode Imputation\n",
        "start_time = time.time()\n",
        "df_mode = df.copy(deep=True)\n",
        "df_miss = df_mode[['order_name','product_type','product_title','product_vendor','variant_title','api_client_title']]\n",
        "for col in list(df_miss.columns):\n",
        "  mode_imputer = SimpleImputer(strategy=\"most_frequent\")\n",
        "  df_mode[col] = mode_imputer.fit_transform(df_mode[col].values.reshape(-1,1))\n",
        "end_time = time.time()\n",
        "\n",
        "print(end_time - start_time)"
      ],
      "metadata": {
        "colab": {
          "base_uri": "https://localhost:8080/"
        },
        "id": "-G-blmnknxyg",
        "outputId": "fd5d5bd3-f699-44b4-878d-4b3889b2f11f"
      },
      "execution_count": null,
      "outputs": [
        {
          "output_type": "stream",
          "name": "stdout",
          "text": [
            "0.11291027069091797\n"
          ]
        }
      ]
    },
    {
      "cell_type": "code",
      "source": [
        "df_mode.isnull().sum()"
      ],
      "metadata": {
        "colab": {
          "base_uri": "https://localhost:8080/"
        },
        "id": "h2u8UKQvOw32",
        "outputId": "6774523e-fce4-43ae-c12d-a1e01ac01e82"
      },
      "execution_count": null,
      "outputs": [
        {
          "output_type": "execute_result",
          "data": {
            "text/plain": [
              "hour                      0\n",
              "order_id                  0\n",
              "customer_id               0\n",
              "product_id                0\n",
              "product_price             0\n",
              "variant_id                0\n",
              "orders                    0\n",
              "gross_sales               0\n",
              "discounts                 0\n",
              "returns                   0\n",
              "net_sales                 0\n",
              "shipping                  0\n",
              "taxes                     0\n",
              "total_sales               0\n",
              "ordered_item_quantity     0\n",
              "net_quantity              0\n",
              "returned_item_quantity    0\n",
              "order_name                0\n",
              "product_type              0\n",
              "product_title             0\n",
              "product_vendor            0\n",
              "variant_title             0\n",
              "api_client_title          0\n",
              "dtype: int64"
            ]
          },
          "metadata": {},
          "execution_count": 10
        }
      ]
    },
    {
      "cell_type": "code",
      "source": [
        "# Imputation using mode(without loop)\n",
        "start_time = datetime.now()\n",
        "df_mode = df.copy(deep=True)\n",
        "imputer = SimpleImputer(strategy=\"most_frequent\")\n",
        "df_mode.iloc[:,:] = imputer.fit_transform(df_mode)\n",
        "end_time = datetime.now()\n",
        "execut = (end_time - start_time).total_seconds()\n",
        "print(execut)\n",
        "print(df_mode.isnull().sum())"
      ],
      "metadata": {
        "colab": {
          "base_uri": "https://localhost:8080/"
        },
        "id": "txX0kQ9nGS9W",
        "outputId": "980e4e6f-0bd2-4818-b43a-96b297095eb4"
      },
      "execution_count": null,
      "outputs": [
        {
          "output_type": "stream",
          "name": "stdout",
          "text": [
            "0.988034\n",
            "hour                      0\n",
            "order_id                  0\n",
            "customer_id               0\n",
            "product_id                0\n",
            "product_price             0\n",
            "variant_id                0\n",
            "orders                    0\n",
            "gross_sales               0\n",
            "discounts                 0\n",
            "returns                   0\n",
            "net_sales                 0\n",
            "shipping                  0\n",
            "taxes                     0\n",
            "total_sales               0\n",
            "ordered_item_quantity     0\n",
            "net_quantity              0\n",
            "returned_item_quantity    0\n",
            "order_name                0\n",
            "product_type              0\n",
            "product_title             0\n",
            "product_vendor            0\n",
            "variant_title             0\n",
            "api_client_title          0\n",
            "dtype: int64\n"
          ]
        }
      ]
    },
    {
      "cell_type": "code",
      "source": [
        "# Imputation using constant\n",
        "start_time = time.time()\n",
        "df_constant = df.copy(deep=True)\n",
        "imputer = SimpleImputer(strategy=\"constant\",missing_values=np.nan ,fill_value='missing')\n",
        "df_constant.iloc[:,:] = imputer.fit_transform(df_constant)\n",
        "end_time = time.time()\n",
        "\n",
        "print(end_time - start_time)\n",
        "print(df_constant.isnull().sum())"
      ],
      "metadata": {
        "colab": {
          "base_uri": "https://localhost:8080/"
        },
        "id": "eXRTKpdwAzfc",
        "outputId": "bc6155ba-cb6e-4f1b-d8c9-f9af88b42ccf"
      },
      "execution_count": null,
      "outputs": [
        {
          "output_type": "stream",
          "name": "stdout",
          "text": [
            "0.8431763648986816\n",
            "hour                      0\n",
            "order_id                  0\n",
            "customer_id               0\n",
            "product_id                0\n",
            "product_price             0\n",
            "variant_id                0\n",
            "orders                    0\n",
            "gross_sales               0\n",
            "discounts                 0\n",
            "returns                   0\n",
            "net_sales                 0\n",
            "shipping                  0\n",
            "taxes                     0\n",
            "total_sales               0\n",
            "ordered_item_quantity     0\n",
            "net_quantity              0\n",
            "returned_item_quantity    0\n",
            "order_name                0\n",
            "product_type              0\n",
            "product_title             0\n",
            "product_vendor            0\n",
            "variant_title             0\n",
            "api_client_title          0\n",
            "dtype: int64\n"
          ]
        }
      ]
    },
    {
      "cell_type": "code",
      "source": [
        "start_time = time.time()\n",
        "imputer = SimpleImputer(strategy=\"constant\",missing_values=np.nan ,fill_value='missing')\n",
        "df.iloc[:,:] = imputer.fit_transform(df)\n",
        "end_time = time.time()\n",
        "print(end_time - start_time)\n",
        "df.isnull().sum()"
      ],
      "metadata": {
        "colab": {
          "base_uri": "https://localhost:8080/"
        },
        "id": "wUI_avytClVL",
        "outputId": "67093aaa-876f-4d0b-d3f8-91ef7d5d5fa1"
      },
      "execution_count": null,
      "outputs": [
        {
          "output_type": "stream",
          "name": "stdout",
          "text": [
            "0.7225291728973389\n"
          ]
        },
        {
          "output_type": "execute_result",
          "data": {
            "text/plain": [
              "hour                      0\n",
              "order_id                  0\n",
              "customer_id               0\n",
              "product_id                0\n",
              "product_price             0\n",
              "variant_id                0\n",
              "orders                    0\n",
              "gross_sales               0\n",
              "discounts                 0\n",
              "returns                   0\n",
              "net_sales                 0\n",
              "shipping                  0\n",
              "taxes                     0\n",
              "total_sales               0\n",
              "ordered_item_quantity     0\n",
              "net_quantity              0\n",
              "returned_item_quantity    0\n",
              "order_name                0\n",
              "product_type              0\n",
              "product_title             0\n",
              "product_vendor            0\n",
              "variant_title             0\n",
              "api_client_title          0\n",
              "dtype: int64"
            ]
          },
          "metadata": {},
          "execution_count": 13
        }
      ]
    },
    {
      "cell_type": "code",
      "source": [
        "from sklearn.impute import KNNImputer\n",
        "from sklearn.preprocessing import LabelEncoder\n",
        "\n",
        "start_time = time.time()\n",
        "# Copy the data\n",
        "df_knn_imputed = df.copy(deep=True)\n",
        "df_miss = df_knn_imputed[['order_name','product_type','product_title','product_vendor','variant_title','api_client_title']]\n",
        "\n",
        "le = LabelEncoder()\n",
        "for col in list(df_miss.columns):\n",
        "  df_miss[col]= le.fit_transform(df_miss[col])\n",
        "# Init the transformer\n",
        "knn_imp = KNNImputer(n_neighbors=3)\n",
        "\n",
        "# Fit/transform\n",
        "df_miss.loc[:, :] = knn_imp.fit_transform(df_miss)\n",
        "end_time = time.time()\n",
        "\n",
        "print('Time taken: ', end_time - start_time)\n",
        "\n",
        "df_miss.isnull().sum()\n"
      ],
      "metadata": {
        "colab": {
          "base_uri": "https://localhost:8080/"
        },
        "id": "OHBi-gCJmrvN",
        "outputId": "1e78fa4d-9994-4602-9822-02d39d993037"
      },
      "execution_count": 17,
      "outputs": [
        {
          "output_type": "stream",
          "name": "stderr",
          "text": [
            "<ipython-input-17-f47f3b639e38>:11: SettingWithCopyWarning: \n",
            "A value is trying to be set on a copy of a slice from a DataFrame.\n",
            "Try using .loc[row_indexer,col_indexer] = value instead\n",
            "\n",
            "See the caveats in the documentation: https://pandas.pydata.org/pandas-docs/stable/user_guide/indexing.html#returning-a-view-versus-a-copy\n",
            "  df_miss[col]= le.fit_transform(df_miss[col])\n",
            "/usr/local/lib/python3.8/dist-packages/pandas/core/indexing.py:1835: SettingWithCopyWarning: \n",
            "A value is trying to be set on a copy of a slice from a DataFrame.\n",
            "Try using .loc[row_indexer,col_indexer] = value instead\n",
            "\n",
            "See the caveats in the documentation: https://pandas.pydata.org/pandas-docs/stable/user_guide/indexing.html#returning-a-view-versus-a-copy\n",
            "  self._setitem_single_column(loc, value[:, i].tolist(), pi)\n"
          ]
        },
        {
          "output_type": "stream",
          "name": "stdout",
          "text": [
            "Time taken:  0.35047078132629395\n"
          ]
        },
        {
          "output_type": "execute_result",
          "data": {
            "text/plain": [
              "order_name          0\n",
              "product_type        0\n",
              "product_title       0\n",
              "product_vendor      0\n",
              "variant_title       0\n",
              "api_client_title    0\n",
              "dtype: int64"
            ]
          },
          "metadata": {},
          "execution_count": 17
        }
      ]
    },
    {
      "cell_type": "code",
      "source": [
        "from sklearn.preprocessing import LabelEncoder\n",
        "# Copy the data\n",
        "df_it_imputed = df.copy(deep=True)\n",
        "df_miss = df_it_imputed[['orders','order_name','product_type','product_title','product_vendor','variant_title','api_client_title']]\n",
        "le = LabelEncoder()\n",
        "for col in list(df_miss.columns):\n",
        "  df_miss[col]= le.fit_transform(df_miss[col])"
      ],
      "metadata": {
        "colab": {
          "base_uri": "https://localhost:8080/"
        },
        "id": "9S3FJJj8ws8M",
        "outputId": "095f7ff9-a472-4fbb-9042-cbc1555f96d7"
      },
      "execution_count": 6,
      "outputs": [
        {
          "output_type": "stream",
          "name": "stderr",
          "text": [
            "<ipython-input-6-215a28a6cd5b>:7: SettingWithCopyWarning: \n",
            "A value is trying to be set on a copy of a slice from a DataFrame.\n",
            "Try using .loc[row_indexer,col_indexer] = value instead\n",
            "\n",
            "See the caveats in the documentation: https://pandas.pydata.org/pandas-docs/stable/user_guide/indexing.html#returning-a-view-versus-a-copy\n",
            "  df_miss[col]= le.fit_transform(df_miss[col])\n"
          ]
        }
      ]
    },
    {
      "cell_type": "code",
      "source": [
        "from sklearn.model_selection import train_test_split\n",
        "\n",
        "# Feature/target arrays\n",
        "X_full = df_miss.drop(\"orders\", axis=1).copy()\n",
        "y_full = df_miss[\"orders\"].values.reshape(-1, 1)"
      ],
      "metadata": {
        "id": "eV_r2xQab5OY"
      },
      "execution_count": 7,
      "outputs": []
    },
    {
      "cell_type": "code",
      "source": [],
      "metadata": {
        "id": "8mcgMe3scOao"
      },
      "execution_count": null,
      "outputs": []
    },
    {
      "cell_type": "code",
      "source": [],
      "metadata": {
        "id": "7j19eBALF2GH"
      },
      "execution_count": null,
      "outputs": []
    },
    {
      "cell_type": "code",
      "source": [
        "from sklearn.ensemble import  RandomForestClassifier\n",
        "from xgboost import XGBClassifier\n",
        "from sklearn.impute import SimpleImputer\n",
        "from sklearn.model_selection import cross_val_score\n",
        "from sklearn.pipeline import make_pipeline\n",
        "from sklearn.experimental import enable_iterative_imputer \n",
        "from sklearn.impute import IterativeImputer\n",
        "\n",
        "# Set global configs\n",
        "cv = 5\n",
        "scoring = \"accuracy\"\n",
        "state = 0\n",
        "forest = RandomForestClassifier()\n",
        "\n",
        "# Store IterativeImputer scores\n",
        "ii_scores = pd.DataFrame()\n",
        "for estimator in [RandomForestClassifier()]:\n",
        "    pipe = make_pipeline(\n",
        "        IterativeImputer(estimator=estimator, random_state=state), forest\n",
        "    )\n",
        "    ii_scores[estimator.__class__.__name__] = cross_val_score(\n",
        "        pipe, X_full, y_full, scoring=scoring, cv=cv\n",
        "    )\n",
        "\n",
        "# Store KNN scores\n",
        "knn_scores = pd.DataFrame()\n",
        "n_neighbors = [2, 3, 5, 7, 9]\n",
        "for k in n_neighbors:\n",
        "    pipe = make_pipeline(KNNImputer(n_neighbors=k), forest)\n",
        "    knn_scores[f\"KNN(k = {k})\"] = cross_val_score(\n",
        "        pipe, X_full, y_full, scoring=scoring, cv=cv\n",
        "    )\n",
        "\n",
        "# Combines scores into a single DF\n",
        "final_scores = pd.concat(\n",
        "    [ii_scores, knn_scores],\n",
        "    axis=1,\n",
        "    keys=[\"iterative_imputer\", \"knn_imputer\"],\n",
        ")\n",
        "\n",
        "# Plot\n",
        "fig, ax = plt.subplots(figsize=(14, 8))\n",
        "\n",
        "means, errors = final_scores.mean().sort_values(ascending=False), final_scores.std()\n",
        "means.plot.barh(xerr=errors, ax=ax)\n",
        "\n",
        "ax.set_title(\"Diabetes Dataset Classification With Different Imputation Methods\")\n",
        "ax.set_xlabel(\"Accuracy\")\n",
        "ax.set_yticks(np.arange(means.shape[0]))\n",
        "\n",
        "plt.tight_layout(pad=1)\n",
        "plt.show();"
      ],
      "metadata": {
        "id": "ip6zUduZeuED"
      },
      "execution_count": null,
      "outputs": []
    },
    {
      "cell_type": "code",
      "source": [
        "\n",
        "\n"
      ],
      "metadata": {
        "id": "AntEXB4tpMxV"
      },
      "execution_count": null,
      "outputs": []
    },
    {
      "cell_type": "code",
      "source": [],
      "metadata": {
        "id": "AFPqd7CCphUE"
      },
      "execution_count": null,
      "outputs": []
    },
    {
      "cell_type": "code",
      "source": [],
      "metadata": {
        "id": "mFwXBIqkpkGp"
      },
      "execution_count": null,
      "outputs": []
    },
    {
      "cell_type": "code",
      "source": [],
      "metadata": {
        "id": "sUif__e2Gs5l"
      },
      "execution_count": null,
      "outputs": []
    },
    {
      "cell_type": "code",
      "source": [],
      "metadata": {
        "id": "5LGrzHQDL-an"
      },
      "execution_count": null,
      "outputs": []
    },
    {
      "cell_type": "code",
      "source": [],
      "metadata": {
        "id": "gXv_AoU5MJYj"
      },
      "execution_count": null,
      "outputs": []
    }
  ]
}