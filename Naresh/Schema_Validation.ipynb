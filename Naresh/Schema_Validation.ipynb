{
 "cells": [
  {
   "cell_type": "code",
   "execution_count": 1,
   "id": "ffb29903",
   "metadata": {},
   "outputs": [],
   "source": [
    "import os\n",
    "import pandas as pd\n",
    "import glob\n",
    "import json\n",
    "import shutil"
   ]
  },
  {
   "cell_type": "code",
   "execution_count": 2,
   "id": "3e39839e",
   "metadata": {},
   "outputs": [
    {
     "data": {
      "text/plain": [
       "(101929, 23)"
      ]
     },
     "execution_count": 2,
     "metadata": {},
     "output_type": "execute_result"
    }
   ],
   "source": [
    "df = pd.read_csv(\"Retail_data.csv\")\n",
    "df.shape"
   ]
  },
  {
   "cell_type": "code",
   "execution_count": 3,
   "id": "7a52c581",
   "metadata": {},
   "outputs": [
    {
     "data": {
      "text/plain": [
       "['hour',\n",
       " 'order_id',\n",
       " 'customer_id',\n",
       " 'product_id',\n",
       " 'product_price',\n",
       " 'variant_id',\n",
       " 'orders',\n",
       " 'gross_sales',\n",
       " 'discounts',\n",
       " 'returns',\n",
       " 'net_sales',\n",
       " 'shipping',\n",
       " 'taxes',\n",
       " 'total_sales',\n",
       " 'ordered_item_quantity',\n",
       " 'net_quantity',\n",
       " 'returned_item_quantity',\n",
       " 'order_name',\n",
       " 'product_type',\n",
       " 'product_title',\n",
       " 'product_vendor',\n",
       " 'variant_title',\n",
       " 'api_client_title']"
      ]
     },
     "execution_count": 3,
     "metadata": {},
     "output_type": "execute_result"
    }
   ],
   "source": [
    "list(df)"
   ]
  },
  {
   "cell_type": "code",
   "execution_count": 4,
   "id": "5e371311",
   "metadata": {},
   "outputs": [
    {
     "data": {
      "text/plain": [
       "array([dtype('O'), dtype('float64'), dtype('float64'), dtype('float64'),\n",
       "       dtype('float64'), dtype('float64'), dtype('int64'),\n",
       "       dtype('float64'), dtype('float64'), dtype('float64'),\n",
       "       dtype('float64'), dtype('float64'), dtype('float64'),\n",
       "       dtype('float64'), dtype('int64'), dtype('int64'), dtype('int64'),\n",
       "       dtype('O'), dtype('O'), dtype('O'), dtype('O'), dtype('O'),\n",
       "       dtype('O')], dtype=object)"
      ]
     },
     "execution_count": 4,
     "metadata": {},
     "output_type": "execute_result"
    }
   ],
   "source": [
    "df.dtypes.values"
   ]
  },
  {
   "cell_type": "code",
   "execution_count": 5,
   "id": "c3f914f7",
   "metadata": {},
   "outputs": [],
   "source": [
    "a = list(map(lambda x : str(x).replace(\"dtype(''),'\"\").replace(\"\")\",\"\"),df.dtypes.values))"
   ]
  },
  {
   "cell_type": "code",
   "execution_count": 6,
   "id": "de2f6ccb",
   "metadata": {},
   "outputs": [
    {
     "data": {
      "text/plain": [
       "{'hour': 'object',\n",
       " 'order_id': 'float64',\n",
       " 'customer_id': 'float64',\n",
       " 'product_id': 'float64',\n",
       " 'product_price': 'float64',\n",
       " 'variant_id': 'float64',\n",
       " 'orders': 'int64',\n",
       " 'gross_sales': 'float64',\n",
       " 'discounts': 'float64',\n",
       " 'returns': 'float64',\n",
       " 'net_sales': 'float64',\n",
       " 'shipping': 'float64',\n",
       " 'taxes': 'float64',\n",
       " 'total_sales': 'float64',\n",
       " 'ordered_item_quantity': 'int64',\n",
       " 'net_quantity': 'int64',\n",
       " 'returned_item_quantity': 'int64',\n",
       " 'order_name': 'object',\n",
       " 'product_type': 'object',\n",
       " 'product_title': 'object',\n",
       " 'product_vendor': 'object',\n",
       " 'variant_title': 'object',\n",
       " 'api_client_title': 'object'}"
      ]
     },
     "execution_count": 6,
     "metadata": {},
     "output_type": "execute_result"
    }
   ],
   "source": [
    "col_dict = dict(zip(list(df),a))\n",
    "col_dict"
   ]
  },
  {
   "cell_type": "code",
   "execution_count": 7,
   "id": "f6c4b89f",
   "metadata": {},
   "outputs": [
    {
     "data": {
      "text/plain": [
       "{'Columns': {'hour': 'object',\n",
       "  'order_id': 'float64',\n",
       "  'customer_id': 'float64',\n",
       "  'product_id': 'float64',\n",
       "  'product_price': 'float64',\n",
       "  'variant_id': 'float64',\n",
       "  'orders': 'int64',\n",
       "  'gross_sales': 'float64',\n",
       "  'discounts': 'float64',\n",
       "  'returns': 'float64',\n",
       "  'net_sales': 'float64',\n",
       "  'shipping': 'float64',\n",
       "  'taxes': 'float64',\n",
       "  'total_sales': 'float64',\n",
       "  'ordered_item_quantity': 'int64',\n",
       "  'net_quantity': 'int64',\n",
       "  'returned_item_quantity': 'int64',\n",
       "  'order_name': 'object',\n",
       "  'product_type': 'object',\n",
       "  'product_title': 'object',\n",
       "  'product_vendor': 'object',\n",
       "  'variant_title': 'object',\n",
       "  'api_client_title': 'object'}}"
      ]
     },
     "execution_count": 7,
     "metadata": {},
     "output_type": "execute_result"
    }
   ],
   "source": [
    "col ={'Columns' : col_dict}\n",
    "col"
   ]
  },
  {
   "cell_type": "code",
   "execution_count": 8,
   "id": "32db48b5",
   "metadata": {},
   "outputs": [
    {
     "data": {
      "text/plain": [
       "'object'"
      ]
     },
     "execution_count": 8,
     "metadata": {},
     "output_type": "execute_result"
    }
   ],
   "source": [
    "col['Columns']['hour']"
   ]
  },
  {
   "cell_type": "code",
   "execution_count": 9,
   "id": "0b68b98a",
   "metadata": {},
   "outputs": [
    {
     "data": {
      "text/plain": [
       "{'sample_file_name': 'Retail_datestamp_timestamp.csv',\n",
       " 'no_of_columns': 23,\n",
       " 'length_of_datestamp': 10,\n",
       " 'length_of_timestamp': 10}"
      ]
     },
     "execution_count": 9,
     "metadata": {},
     "output_type": "execute_result"
    }
   ],
   "source": [
    "q = {\n",
    "    \"sample_file_name\" : \"Retail_datestamp_timestamp.csv\",\n",
    "    \"no_of_columns\":23,\n",
    "    \"length_of_datestamp\" : 10,\n",
    "    \"length_of_timestamp\" : 10\n",
    "}\n",
    "q"
   ]
  },
  {
   "cell_type": "code",
   "execution_count": 10,
   "id": "7ca97382",
   "metadata": {},
   "outputs": [],
   "source": [
    "q.update(col)"
   ]
  },
  {
   "cell_type": "code",
   "execution_count": 11,
   "id": "88cf05c3",
   "metadata": {},
   "outputs": [
    {
     "data": {
      "text/plain": [
       "{'sample_file_name': 'Retail_datestamp_timestamp.csv',\n",
       " 'no_of_columns': 23,\n",
       " 'length_of_datestamp': 10,\n",
       " 'length_of_timestamp': 10,\n",
       " 'Columns': {'hour': 'object',\n",
       "  'order_id': 'float64',\n",
       "  'customer_id': 'float64',\n",
       "  'product_id': 'float64',\n",
       "  'product_price': 'float64',\n",
       "  'variant_id': 'float64',\n",
       "  'orders': 'int64',\n",
       "  'gross_sales': 'float64',\n",
       "  'discounts': 'float64',\n",
       "  'returns': 'float64',\n",
       "  'net_sales': 'float64',\n",
       "  'shipping': 'float64',\n",
       "  'taxes': 'float64',\n",
       "  'total_sales': 'float64',\n",
       "  'ordered_item_quantity': 'int64',\n",
       "  'net_quantity': 'int64',\n",
       "  'returned_item_quantity': 'int64',\n",
       "  'order_name': 'object',\n",
       "  'product_type': 'object',\n",
       "  'product_title': 'object',\n",
       "  'product_vendor': 'object',\n",
       "  'variant_title': 'object',\n",
       "  'api_client_title': 'object'}}"
      ]
     },
     "execution_count": 11,
     "metadata": {},
     "output_type": "execute_result"
    }
   ],
   "source": [
    "q"
   ]
  },
  {
   "cell_type": "code",
   "execution_count": 12,
   "id": "18716dcf",
   "metadata": {},
   "outputs": [],
   "source": [
    "with open('schema_Retail.json','w') as file:\n",
    "    json.dump(q,file,indent=1)"
   ]
  },
  {
   "cell_type": "code",
   "execution_count": 13,
   "id": "44b43037",
   "metadata": {},
   "outputs": [
    {
     "data": {
      "text/plain": [
       "True"
      ]
     },
     "execution_count": 13,
     "metadata": {},
     "output_type": "execute_result"
    }
   ],
   "source": [
    "col['Columns']['taxes'] ==df['taxes'].dtype"
   ]
  },
  {
   "cell_type": "code",
   "execution_count": 14,
   "id": "35f2abe7",
   "metadata": {},
   "outputs": [
    {
     "data": {
      "text/plain": [
       "{'sample_file_name': 'Retail-data.csv', 'no_of_columns': 23}"
      ]
     },
     "execution_count": 14,
     "metadata": {},
     "output_type": "execute_result"
    }
   ],
   "source": [
    "a= {\"sample_file_name\": \"Retail-data.csv\", \"no_of_columns\":len(df.columns)}\n",
    "a"
   ]
  },
  {
   "cell_type": "code",
   "execution_count": null,
   "id": "045205ed",
   "metadata": {},
   "outputs": [],
   "source": []
  },
  {
   "cell_type": "code",
   "execution_count": 20,
   "id": "a9592509",
   "metadata": {},
   "outputs": [],
   "source": [
    "JSON1= a.update(col)\n",
    "JSON1\n"
   ]
  },
  {
   "cell_type": "code",
   "execution_count": 22,
   "id": "8836d93f",
   "metadata": {},
   "outputs": [],
   "source": [
    "with open(\"Schema.json\", \"w\") as jsonFile:\n",
    "    json.dump(col, jsonFile,  indent = 1)\n"
   ]
  },
  {
   "cell_type": "code",
   "execution_count": 23,
   "id": "8a502607",
   "metadata": {},
   "outputs": [
    {
     "name": "stdout",
     "output_type": "stream",
     "text": [
      "Directory 'Correct_data' created successfully\n",
      "Directory 'Incorrect_data' created successfully\n"
     ]
    }
   ],
   "source": [
    "directory1 = \"Correct_data\"\n",
    "directory2 ='Incorrect_data'\n",
    "    \n",
    "# Parent Directories \n",
    "parent_dir = \"C:\\RawData\"\n",
    "    \n",
    "# Path \n",
    "path1 = os.path.join(parent_dir, directory1)\n",
    "path2 = os.path.join(parent_dir, directory2)\n",
    " \n",
    "# Create the directory\n",
    "try:\n",
    "        os.makedirs(path1, exist_ok = True)\n",
    "        print(\"Directory '%s' created successfully\" %directory1)\n",
    "        os.makedirs(path2, exist_ok = True)\n",
    "        print(\"Directory '%s' created successfully\" %directory2)\n",
    "    \n",
    "except OSError as error:\n",
    "                        print(\"Directory '%s' can not be created\")\n",
    "                        print(\"Directory '%s' can not be created\")"
   ]
  },
  {
   "cell_type": "code",
   "execution_count": 41,
   "id": "462c0734",
   "metadata": {},
   "outputs": [],
   "source": [
    "def validate(data):\n",
    "    if len(data)==len(dict_data['columns']):\n",
    "        print(\"Data-Matched\")\n",
    "        shutil.move(tail, \"C:\\RawData\\Correct_data\")\n",
    "    else:\n",
    "        print(\"Data-Not-Matched\") \n",
    "        shutil.move(tail, \"C:\\RawData\\Incorrect_data\")"
   ]
  },
  {
   "cell_type": "code",
   "execution_count": 49,
   "id": "7033f5fa",
   "metadata": {},
   "outputs": [
    {
     "name": "stdout",
     "output_type": "stream",
     "text": [
      "C:\\RawData\\Retail_data.csv\n",
      "23\n"
     ]
    },
    {
     "ename": "KeyError",
     "evalue": "'columns'",
     "output_type": "error",
     "traceback": [
      "\u001b[1;31m---------------------------------------------------------------------------\u001b[0m",
      "\u001b[1;31mKeyError\u001b[0m                                  Traceback (most recent call last)",
      "\u001b[1;32m~\\anaconda3\\lib\\site-packages\\pandas\\core\\indexes\\base.py\u001b[0m in \u001b[0;36mget_loc\u001b[1;34m(self, key, method, tolerance)\u001b[0m\n\u001b[0;32m   3079\u001b[0m             \u001b[1;32mtry\u001b[0m\u001b[1;33m:\u001b[0m\u001b[1;33m\u001b[0m\u001b[1;33m\u001b[0m\u001b[0m\n\u001b[1;32m-> 3080\u001b[1;33m                 \u001b[1;32mreturn\u001b[0m \u001b[0mself\u001b[0m\u001b[1;33m.\u001b[0m\u001b[0m_engine\u001b[0m\u001b[1;33m.\u001b[0m\u001b[0mget_loc\u001b[0m\u001b[1;33m(\u001b[0m\u001b[0mcasted_key\u001b[0m\u001b[1;33m)\u001b[0m\u001b[1;33m\u001b[0m\u001b[1;33m\u001b[0m\u001b[0m\n\u001b[0m\u001b[0;32m   3081\u001b[0m             \u001b[1;32mexcept\u001b[0m \u001b[0mKeyError\u001b[0m \u001b[1;32mas\u001b[0m \u001b[0merr\u001b[0m\u001b[1;33m:\u001b[0m\u001b[1;33m\u001b[0m\u001b[1;33m\u001b[0m\u001b[0m\n",
      "\u001b[1;32mpandas\\_libs\\index.pyx\u001b[0m in \u001b[0;36mpandas._libs.index.IndexEngine.get_loc\u001b[1;34m()\u001b[0m\n",
      "\u001b[1;32mpandas\\_libs\\index.pyx\u001b[0m in \u001b[0;36mpandas._libs.index.IndexEngine.get_loc\u001b[1;34m()\u001b[0m\n",
      "\u001b[1;32mpandas\\_libs\\hashtable_class_helper.pxi\u001b[0m in \u001b[0;36mpandas._libs.hashtable.PyObjectHashTable.get_item\u001b[1;34m()\u001b[0m\n",
      "\u001b[1;32mpandas\\_libs\\hashtable_class_helper.pxi\u001b[0m in \u001b[0;36mpandas._libs.hashtable.PyObjectHashTable.get_item\u001b[1;34m()\u001b[0m\n",
      "\u001b[1;31mKeyError\u001b[0m: 'columns'",
      "\nThe above exception was the direct cause of the following exception:\n",
      "\u001b[1;31mKeyError\u001b[0m                                  Traceback (most recent call last)",
      "\u001b[1;32m<ipython-input-49-74de364b46fd>\u001b[0m in \u001b[0;36m<module>\u001b[1;34m\u001b[0m\n\u001b[0;32m      8\u001b[0m         \u001b[0mdf_columns\u001b[0m \u001b[1;33m=\u001b[0m \u001b[0mpd\u001b[0m\u001b[1;33m.\u001b[0m\u001b[0mread_csv\u001b[0m\u001b[1;33m(\u001b[0m\u001b[0mf\u001b[0m\u001b[1;33m)\u001b[0m\u001b[1;33m\u001b[0m\u001b[1;33m\u001b[0m\u001b[0m\n\u001b[0;32m      9\u001b[0m         \u001b[0mprint\u001b[0m\u001b[1;33m(\u001b[0m\u001b[0mlen\u001b[0m\u001b[1;33m(\u001b[0m\u001b[0mdf_columns\u001b[0m\u001b[1;33m.\u001b[0m\u001b[0mcolumns\u001b[0m\u001b[1;33m)\u001b[0m\u001b[1;33m)\u001b[0m\u001b[1;33m\u001b[0m\u001b[1;33m\u001b[0m\u001b[0m\n\u001b[1;32m---> 10\u001b[1;33m         \u001b[0mvalidate\u001b[0m\u001b[1;33m(\u001b[0m\u001b[0mdf_columns\u001b[0m\u001b[1;33m.\u001b[0m\u001b[0mcolumns\u001b[0m\u001b[1;33m)\u001b[0m\u001b[1;33m\u001b[0m\u001b[1;33m\u001b[0m\u001b[0m\n\u001b[0m",
      "\u001b[1;32m<ipython-input-41-5ae906f1d31a>\u001b[0m in \u001b[0;36mvalidate\u001b[1;34m(data)\u001b[0m\n\u001b[0;32m      1\u001b[0m \u001b[1;32mdef\u001b[0m \u001b[0mvalidate\u001b[0m\u001b[1;33m(\u001b[0m\u001b[0mdata\u001b[0m\u001b[1;33m)\u001b[0m\u001b[1;33m:\u001b[0m\u001b[1;33m\u001b[0m\u001b[1;33m\u001b[0m\u001b[0m\n\u001b[1;32m----> 2\u001b[1;33m     \u001b[1;32mif\u001b[0m \u001b[0mlen\u001b[0m\u001b[1;33m(\u001b[0m\u001b[0mdata\u001b[0m\u001b[1;33m)\u001b[0m\u001b[1;33m==\u001b[0m\u001b[0mlen\u001b[0m\u001b[1;33m(\u001b[0m\u001b[0mdict_data\u001b[0m\u001b[1;33m[\u001b[0m\u001b[1;34m'columns'\u001b[0m\u001b[1;33m]\u001b[0m\u001b[1;33m)\u001b[0m\u001b[1;33m:\u001b[0m\u001b[1;33m\u001b[0m\u001b[1;33m\u001b[0m\u001b[0m\n\u001b[0m\u001b[0;32m      3\u001b[0m         \u001b[0mprint\u001b[0m\u001b[1;33m(\u001b[0m\u001b[1;34m\"Data-Matched\"\u001b[0m\u001b[1;33m)\u001b[0m\u001b[1;33m\u001b[0m\u001b[1;33m\u001b[0m\u001b[0m\n\u001b[0;32m      4\u001b[0m         \u001b[0mshutil\u001b[0m\u001b[1;33m.\u001b[0m\u001b[0mmove\u001b[0m\u001b[1;33m(\u001b[0m\u001b[0mtail\u001b[0m\u001b[1;33m,\u001b[0m \u001b[1;34m\"C:\\RawData\\Correct_data\"\u001b[0m\u001b[1;33m)\u001b[0m\u001b[1;33m\u001b[0m\u001b[1;33m\u001b[0m\u001b[0m\n\u001b[0;32m      5\u001b[0m     \u001b[1;32melse\u001b[0m\u001b[1;33m:\u001b[0m\u001b[1;33m\u001b[0m\u001b[1;33m\u001b[0m\u001b[0m\n",
      "\u001b[1;32m~\\anaconda3\\lib\\site-packages\\pandas\\core\\frame.py\u001b[0m in \u001b[0;36m__getitem__\u001b[1;34m(self, key)\u001b[0m\n\u001b[0;32m   3022\u001b[0m             \u001b[1;32mif\u001b[0m \u001b[0mself\u001b[0m\u001b[1;33m.\u001b[0m\u001b[0mcolumns\u001b[0m\u001b[1;33m.\u001b[0m\u001b[0mnlevels\u001b[0m \u001b[1;33m>\u001b[0m \u001b[1;36m1\u001b[0m\u001b[1;33m:\u001b[0m\u001b[1;33m\u001b[0m\u001b[1;33m\u001b[0m\u001b[0m\n\u001b[0;32m   3023\u001b[0m                 \u001b[1;32mreturn\u001b[0m \u001b[0mself\u001b[0m\u001b[1;33m.\u001b[0m\u001b[0m_getitem_multilevel\u001b[0m\u001b[1;33m(\u001b[0m\u001b[0mkey\u001b[0m\u001b[1;33m)\u001b[0m\u001b[1;33m\u001b[0m\u001b[1;33m\u001b[0m\u001b[0m\n\u001b[1;32m-> 3024\u001b[1;33m             \u001b[0mindexer\u001b[0m \u001b[1;33m=\u001b[0m \u001b[0mself\u001b[0m\u001b[1;33m.\u001b[0m\u001b[0mcolumns\u001b[0m\u001b[1;33m.\u001b[0m\u001b[0mget_loc\u001b[0m\u001b[1;33m(\u001b[0m\u001b[0mkey\u001b[0m\u001b[1;33m)\u001b[0m\u001b[1;33m\u001b[0m\u001b[1;33m\u001b[0m\u001b[0m\n\u001b[0m\u001b[0;32m   3025\u001b[0m             \u001b[1;32mif\u001b[0m \u001b[0mis_integer\u001b[0m\u001b[1;33m(\u001b[0m\u001b[0mindexer\u001b[0m\u001b[1;33m)\u001b[0m\u001b[1;33m:\u001b[0m\u001b[1;33m\u001b[0m\u001b[1;33m\u001b[0m\u001b[0m\n\u001b[0;32m   3026\u001b[0m                 \u001b[0mindexer\u001b[0m \u001b[1;33m=\u001b[0m \u001b[1;33m[\u001b[0m\u001b[0mindexer\u001b[0m\u001b[1;33m]\u001b[0m\u001b[1;33m\u001b[0m\u001b[1;33m\u001b[0m\u001b[0m\n",
      "\u001b[1;32m~\\anaconda3\\lib\\site-packages\\pandas\\core\\indexes\\base.py\u001b[0m in \u001b[0;36mget_loc\u001b[1;34m(self, key, method, tolerance)\u001b[0m\n\u001b[0;32m   3080\u001b[0m                 \u001b[1;32mreturn\u001b[0m \u001b[0mself\u001b[0m\u001b[1;33m.\u001b[0m\u001b[0m_engine\u001b[0m\u001b[1;33m.\u001b[0m\u001b[0mget_loc\u001b[0m\u001b[1;33m(\u001b[0m\u001b[0mcasted_key\u001b[0m\u001b[1;33m)\u001b[0m\u001b[1;33m\u001b[0m\u001b[1;33m\u001b[0m\u001b[0m\n\u001b[0;32m   3081\u001b[0m             \u001b[1;32mexcept\u001b[0m \u001b[0mKeyError\u001b[0m \u001b[1;32mas\u001b[0m \u001b[0merr\u001b[0m\u001b[1;33m:\u001b[0m\u001b[1;33m\u001b[0m\u001b[1;33m\u001b[0m\u001b[0m\n\u001b[1;32m-> 3082\u001b[1;33m                 \u001b[1;32mraise\u001b[0m \u001b[0mKeyError\u001b[0m\u001b[1;33m(\u001b[0m\u001b[0mkey\u001b[0m\u001b[1;33m)\u001b[0m \u001b[1;32mfrom\u001b[0m \u001b[0merr\u001b[0m\u001b[1;33m\u001b[0m\u001b[1;33m\u001b[0m\u001b[0m\n\u001b[0m\u001b[0;32m   3083\u001b[0m \u001b[1;33m\u001b[0m\u001b[0m\n\u001b[0;32m   3084\u001b[0m         \u001b[1;32mif\u001b[0m \u001b[0mtolerance\u001b[0m \u001b[1;32mis\u001b[0m \u001b[1;32mnot\u001b[0m \u001b[1;32mNone\u001b[0m\u001b[1;33m:\u001b[0m\u001b[1;33m\u001b[0m\u001b[1;33m\u001b[0m\u001b[0m\n",
      "\u001b[1;31mKeyError\u001b[0m: 'columns'"
     ]
    }
   ],
   "source": [
    "directory ='C:\\RawData'\n",
    "for filename in os.listdir(directory):\n",
    "    f = os.path.join(directory, filename)\n",
    "    tail = (f)\n",
    "    # checking if it is a file\n",
    "    if os.path.isfile(f):\n",
    "        print(f)\n",
    "        df_columns = pd.read_csv(f)\n",
    "        print(len(df_columns.columns))\n",
    "        validate(df_columns.columns)"
   ]
  },
  {
   "cell_type": "code",
   "execution_count": null,
   "id": "b32d91a6",
   "metadata": {},
   "outputs": [],
   "source": []
  }
 ],
 "metadata": {
  "kernelspec": {
   "display_name": "Python 3",
   "language": "python",
   "name": "python3"
  },
  "language_info": {
   "codemirror_mode": {
    "name": "ipython",
    "version": 3
   },
   "file_extension": ".py",
   "mimetype": "text/x-python",
   "name": "python",
   "nbconvert_exporter": "python",
   "pygments_lexer": "ipython3",
   "version": "3.8.8"
  }
 },
 "nbformat": 4,
 "nbformat_minor": 5
}
